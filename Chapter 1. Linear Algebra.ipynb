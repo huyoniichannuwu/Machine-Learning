{
 "cells": [
  {
   "cell_type": "code",
   "execution_count": null,
   "id": "afea1a48",
   "metadata": {},
   "outputs": [],
   "source": []
  },
  {
   "cell_type": "code",
   "execution_count": 7,
   "id": "e8137552",
   "metadata": {},
   "outputs": [
    {
     "name": "stdout",
     "output_type": "stream",
     "text": [
      "[0. 0. 0. 0.]\n"
     ]
    }
   ],
   "source": [
    "import numpy as np\n",
    "A = np.zeros(4)\n",
    "print(A)"
   ]
  },
  {
   "cell_type": "code",
   "execution_count": 1,
   "id": "4aef2a3a",
   "metadata": {},
   "outputs": [
    {
     "name": "stdout",
     "output_type": "stream",
     "text": [
      "\n",
      "Nhập ma trận A:\n",
      "[[1. 2.]\n",
      " [3. 4.]\n",
      " [2. 3.]]\n",
      "\n",
      "Nhập ma trận B:\n",
      "[[2. 3. 1.]\n",
      " [3. 1. 4.]]\n",
      "\n",
      "Ma trận tích A x B:\n",
      "[[ 8.  5.  9.]\n",
      " [18. 13. 19.]\n",
      " [13.  9. 14.]]\n"
     ]
    }
   ],
   "source": [
    "#tích ma trận:\n",
    "import numpy as np \n",
    "\n",
    "#Nhập kích thước ma trận\n",
    "m= int(input(\"Nhập số hàng của ma trận A: \"))\n",
    "n= int(input(\"Nhập số cột của ma trận A (cũng là số hàng của B): \"))\n",
    "p= int(input(\"Nhập số cột của ma trận B: \"))\n",
    "\n",
    "#Nhập ma trận A (m x n)\n",
    "print (\"\\nNhập ma trận A:\")\n",
    "A=np.array([[float(input(f\"A[{i}][{j}]: \")) for j in range(n)] for i in range(m)])\n",
    "print (A)\n",
    "#Nhập ma trận B (n x p)\n",
    "print(\"\\nNhập ma trận B:\")\n",
    "B= np.array([[float(input(f\"B[{i}][{j}]: \")) for j in range(p)] for i in range(n)])\n",
    "print(B)\n",
    "#Nhân hai ma trận\n",
    "tich= np.dot(A, B) #hoặc dùng A @ B\n",
    "\n",
    "print (\"\\nMa trận tích A x B:\")\n",
    "print(tich)\n"
   ]
  },
  {
   "cell_type": "code",
   "execution_count": null,
   "id": "c4e13f8a",
   "metadata": {},
   "outputs": [
    {
     "name": "stdout",
     "output_type": "stream",
     "text": [
      "Nhập từng dòng của ma trận, cách nhau bởi dấu cách:\n",
      "Định thức của ma trận là: det(A) =  2.0\n",
      "det(A) khác 0 suy ra ma trận khả nghịch\n",
      "\n",
      "Ma trận nghịch đảo là:\n",
      "[[-1.5 -1.5  2. ]\n",
      " [ 1.   1.  -1. ]\n",
      " [-0.5  0.5 -0. ]]\n"
     ]
    }
   ],
   "source": [
    "#Tính Det(A) = hàm laplace\n",
    "import numpy as np\n",
    "from sympy import Matrix\n",
    "\n",
    "def determinant_laplace(matrix):\n",
    "    \"\"\"\n",
    "    Tính định thức ma trận bằng phương pháp lapace \n",
    "    :param matrix: Ma trận vuông (numpy hoặc list lồng nhau)\n",
    "    :return: Gía trị định thức của ma trận\n",
    "    \"\"\"\n",
    "    matrix = np.array(matrix)\n",
    "    n=matrix.shape[0]\n",
    "\n",
    "    #Điều kiện dừng: Ma trận 1x1\n",
    "    if n == 1:\n",
    "        return matrix[0, 0]\n",
    "    #Điều kiện dừng: Ma trận 2x2\n",
    "    if n == 2:\n",
    "        return matrix[0, 0] * matrix[1, 1] - matrix[0, 1] * matrix[1, 0]\n",
    "    \n",
    "    det=0\n",
    "    for j in range(n): #Duyệt theo từng phần tử của hàng đầu tiên\n",
    "        sub_matrix = np.delete(np.delete(matrix, 0, axis=0), j, axis=1) #ma trận con\n",
    "        cofactor= (-1) ** j * matrix[0, j] * determinant_laplace(sub_matrix)\n",
    "        det += cofactor\n",
    "\n",
    "    return det\n",
    "\n",
    "#Nhập ma trận từ user\n",
    "def input_matrix():\n",
    "    n=int(input(\"Nhập kích thước ma trận vuông A (n x n): \"))\n",
    "    matrix = []\n",
    "    print(\"Nhập từng dòng của ma trận, cách nhau bởi dấu cách:\")\n",
    "    for i in range(n):\n",
    "        row = list(map(float, input(f\"Dòng {i+1}: \").split()))\n",
    "        matrix.append(row)\n",
    "    return np.array(matrix)\n",
    "\n",
    "#chạy chương trình\n",
    "matrix = input_matrix()\n",
    "det = determinant_laplace(matrix)\n",
    "print (\"Định thức của ma trận là: det(A) = \",det,)\n",
    "print (\"det(A) khác 0 suy ra ma trận khả nghịch\")\n",
    "if det ==0:\n",
    "        print(\"\\nMa trận không khả nghịch vì định thức = 0.\")\n",
    "else:\n",
    "        #tính nghịch đảo\n",
    "        A_inv= np.linalg.inv(matrix)\n",
    "        print(\"\\nMa trận nghịch đảo là:\")\n",
    "        print(A_inv)\n",
    "\n",
    "    "
   ]
  },
  {
   "cell_type": "code",
   "execution_count": null,
   "id": "ba89e2e2",
   "metadata": {},
   "outputs": [
    {
     "name": "stdout",
     "output_type": "stream",
     "text": [
      "\n",
      "Nhập ma trận A:\n",
      "\n",
      "Ma trận nghịch đảo là:\n",
      "[[ 0.8  1.2 -0.6  0.8]\n",
      " [-1.4 -6.6  3.8 -5.4]\n",
      " [ 0.6  0.4 -0.2  0.6]\n",
      " [ 0.4  1.6 -0.8  1.4]]\n",
      "\n",
      " Kiểm tra A*A^-1:\n",
      "[[ 1.  0. -0. -0.]\n",
      " [-0.  1.  0.  0.]\n",
      " [-0. -0.  1.  0.]\n",
      " [ 0. -0.  0.  1.]]\n"
     ]
    }
   ],
   "source": [
    "import numpy as np\n",
    "\n",
    "#nhập kích thước ma trận vuông\n",
    "n=int(input(\"Nhập kích thước ma trận vuông (n): \"))\n",
    "\n",
    "#Nhập ma trận A\n",
    "print(\"\\nNhập ma trận A:\")\n",
    "A= np. array([[float(input(f\"A[{i}][{j}]: \")) for j in range(n)] for i in range(n)])\n",
    "\n",
    "#kiểm tra định thức\n",
    "det_A=np.linalg.det(A)\n",
    "if det_A ==0:\n",
    "    print(\"\\nMa trận không khả nghịch vì định thức = 0.\")\n",
    "else:\n",
    "    #tính nghịch đảo\n",
    "    A_inv= np.linalg.inv(A)\n",
    "    print(\"\\nMa trận nghịch đảo là:\")\n",
    "    print(A_inv)\n",
    "\n",
    "    #kiểm tra: A*A^-1 có ra ma trận đơn vị không?\n",
    "    print (\"\\n Kiểm tra A*A^-1:\")\n",
    "    print(np.round(np.dot(A, A_inv), 5))  #làm tròn"
   ]
  },
  {
   "cell_type": "code",
   "execution_count": null,
   "id": "2111863d",
   "metadata": {},
   "outputs": [],
   "source": []
  },
  {
   "cell_type": "code",
   "execution_count": null,
   "id": "e194bfcb",
   "metadata": {},
   "outputs": [
    {
     "name": "stdout",
     "output_type": "stream",
     "text": [
      "Nhập từng dòng của ma trận, cách nhau bởi dấu cach:\n",
      "Ma trận A:\n",
      " [[1. 2. 3. 1. 2.]\n",
      " [2. 3. 1. 2. 3.]\n",
      " [3. 1. 2. 3. 1.]\n",
      " [3. 5. 4. 3. 5.]]\n",
      "Hạng của ma trận: 3\n"
     ]
    }
   ],
   "source": [
    "#hangmatran\n",
    "import numpy as np\n",
    "def input_matrix():\n",
    "    n, m= map(int, input(\"Nhập số hàng và số cột của ma trận (cách nhau bởi dấu cách): \").split())\n",
    "    print(\"Nhập từng dòng của ma trận, cách nhau bởi dấu cach:\")\n",
    "    #khởi tạo ma trận rỗng \n",
    "    A = np.zeros((m,n))\n",
    "    matrix = []\n",
    "    for i in range(n):\n",
    "        row = list(map(float, input(f\"Dong {i+1}: \").split()))\n",
    "        matrix.append(row)\n",
    "    return np.array(matrix)\n",
    "\n",
    "# Nhập ma trận và tính hạng\n",
    "A = input_matrix()\n",
    "rank = np.linalg.matrix_rank(A)\n",
    "print (\"Ma trận A:\\n\",A)\n",
    "print (\"Hạng của ma trận A:\", rank)"
   ]
  },
  {
   "cell_type": "code",
   "execution_count": 10,
   "id": "223fa69e",
   "metadata": {},
   "outputs": [
    {
     "name": "stdout",
     "output_type": "stream",
     "text": [
      "Ma trận A:\n",
      "[[1. 2. 3.]\n",
      " [4. 5. 6.]\n",
      " [7. 8. 9.]]\n"
     ]
    }
   ],
   "source": [
    "#Ma trận\n",
    "import numpy as np\n",
    "#nhap kich thuoc ma tran\n",
    "m=int(input(\"Nhập số hàng (m): \"))\n",
    "n=int(input(\"Nhập số cột (n): \"))\n",
    "\n",
    "#khởi tạo ma trận rỗng \n",
    "A = np.zeros((m,n))\n",
    "\n",
    "#nhập từng phần tử\n",
    "for i in range(m):\n",
    "    for j in range(n):\n",
    "        A[i,j]=float(input(f\"Nhập phần tử A[{i+1}][{j+1}]: \"))\n",
    "\n",
    "print(\"Ma trận A:\")\n",
    "print(A)        \n",
    "\n"
   ]
  },
  {
   "cell_type": "code",
   "execution_count": null,
   "id": "76935178",
   "metadata": {},
   "outputs": [],
   "source": []
  },
  {
   "cell_type": "code",
   "execution_count": 2,
   "id": "836efa00",
   "metadata": {},
   "outputs": [
    {
     "name": "stdout",
     "output_type": "stream",
     "text": [
      "Nhập ma trận 3x2,mỗi hàng nhập số phức(vd: 1+2j, 3+3j): \n",
      "Ma trận A: \n",
      "[[-1.+2.j  0.+0.j]\n",
      " [ 3.+0.j  6.-3.j]\n",
      " [ 4.+1.j  9.-4.j]]\n",
      "\n",
      "Ma trận chuyển vị liên hợp A^H: \n",
      "[[-1.-2.j  3.-0.j  4.-1.j]\n",
      " [ 0.-0.j  6.+3.j  9.+4.j]]\n"
     ]
    }
   ],
   "source": [
    "#Ma trận chuyển vị liên hợp\n",
    "import numpy as np\n",
    "\n",
    "#kích thước ma trận\n",
    "m=int(input(\"Nhập số hàng (m): \"))\n",
    "n=int(input(\"Nhập số cột (n): \"))\n",
    "\n",
    "#dữ liệu ma trận số phức\n",
    "A=[]\n",
    "print(f\"Nhập ma trận {m}x{n},mỗi hàng nhập số phức(vd: 1+2j, 3+3j): \")\n",
    "for i in range(m):\n",
    "    row = list(map(complex, input(f\"Hàng {i+1}: \").split()))\n",
    "    A.append(row)\n",
    "\n",
    "#chuyển thành mảng numpy\n",
    "A=np.array(A, dtype=np.complex128)\n",
    "\n",
    "#Tính ma trận chuyển vị liên hợp\n",
    "A_H=A.conj().T\n",
    "\n",
    "print(\"Ma trận A: \")\n",
    "print(A)\n",
    "print(\"\\nMa trận chuyển vị liên hợp A^H: \")\n",
    "print (A_H)"
   ]
  },
  {
   "cell_type": "code",
   "execution_count": 14,
   "id": "d35fb8be",
   "metadata": {},
   "outputs": [
    {
     "name": "stdout",
     "output_type": "stream",
     "text": [
      "Nhập ma trận 2x2, mỗi hàng nhập các số cách nhau bởi dấu cách:\n",
      "\n",
      "Ma trận vuông a: \n",
      "[[1. 2.]\n",
      " [3. 4.]]\n"
     ]
    }
   ],
   "source": [
    "import numpy as np\n",
    "\n",
    "#kích thước ma trận vuông(nxn)\n",
    "n = int(input(\"Nhập kích thước ma trận vuông (n): \"))\n",
    "\n",
    "#Nhập từng phần tử từ bàn phím\n",
    "A=[]\n",
    "print(f\"Nhập ma trận {n}x{n}, mỗi hàng nhập các số cách nhau bởi dấu cách:\")\n",
    "for i in range(n):\n",
    "    row = list(map(float, input(f\"Hàng {i+1}: \").split()))\n",
    "    A.append(row)\n",
    "\n",
    "#Chuyển thành mảng numpy\n",
    "A= np.array(A)\n",
    "\n",
    "print(\"\\nMa trận vuông a: \")\n",
    "print(A)"
   ]
  },
  {
   "cell_type": "code",
   "execution_count": 5,
   "id": "fbce0443",
   "metadata": {},
   "outputs": [
    {
     "name": "stdout",
     "output_type": "stream",
     "text": [
      "Nhập ma trận 4x4, mỗi hàng cách nhau bởi dấu cách:\n",
      "\n",
      "Ma trận bậc thang (Row Echelon Form): \n",
      "[[ 1.  2.  3.  0.]\n",
      " [ 0.  1.  0.  0.]\n",
      " [-0. -0.  1. -0.]\n",
      " [ 0.  0.  0.  0.]]\n"
     ]
    }
   ],
   "source": [
    "#MA TRẬN BẬC THANG\n",
    "import numpy as np\n",
    "\n",
    "def row_echelon_form(A):     #bac thang\n",
    "    A=A.astype(float) #chuyển về số thực để tránh lỗi chia\n",
    "    rows, cols = A.shape\n",
    "    pivot_row=0\n",
    "\n",
    "    for col in range(cols):\n",
    "        #Tìm hàng có phần tử lớn nhất trong cột hiện tại ( tránh chia cho 0)\n",
    "        max_row = pivot_row+ np.argmax(np.abs(A[pivot_row:, col]))\n",
    "\n",
    "        #Nếu phần tử lớn nhất là 0 thì bỏ qua cột này\n",
    "        if A[max_row, col]==0:\n",
    "            continue\n",
    "        #Đổi hàng hiện tại với hàng có phần tử lớn nhất\n",
    "        A[[pivot_row, max_row]]= A[[max_row, pivot_row]]\n",
    "\n",
    "        #biến đổi hàng sao cho phần tử trụ bằng 1\n",
    "        A[pivot_row]=A[pivot_row]/A[pivot_row, col]\n",
    "\n",
    "        #Khử các phần tử bên dưới tử trụ\n",
    "        for row in range(pivot_row+1, rows):\n",
    "            A[row]-= A[row, col] * A[pivot_row]\n",
    "\n",
    "        pivot_row += 1\n",
    "        if pivot_row == rows:\n",
    "            break\n",
    "\n",
    "    return A\n",
    "\n",
    "#Nhập ma trận\n",
    "m=int(input(\"Nhập số hàng (m): \"))\n",
    "n=int(input(\"Nhập số cột (n): \"))\n",
    "\n",
    "A=[]\n",
    "print(f\"Nhập ma trận {m}x{n}, mỗi hàng cách nhau bởi dấu cách:\")\n",
    "for i in range(m):\n",
    "    row=list(map(float, input(f\"Hàng {i+1}: \").split()))\n",
    "    A.append(row)\n",
    "\n",
    "A=np.array(A)\n",
    "A_ref= row_echelon_form(A.copy())\n",
    "\n",
    "print(\"\\nMa trận bậc thang (Row Echelon Form): \")\n",
    "print(A_ref)"
   ]
  },
  {
   "cell_type": "code",
   "execution_count": null,
   "id": "b34d48c2",
   "metadata": {},
   "outputs": [
    {
     "name": "stdout",
     "output_type": "stream",
     "text": [
      "Nhập từng dòng của ma trận, cách nhau bởi dấu cách:\n",
      "Định thức của ma trận là:  2.0\n"
     ]
    }
   ],
   "source": [
    "#Tính Det(A)\n",
    "import numpy as np\n",
    "from sympy import Matrix\n",
    "\n",
    "def determinant_laplace(matrix):\n",
    "    \"\"\"\n",
    "    Tính định thức ma trận bằng phương pháp lapace \n",
    "    :param matrix: Ma trận vuông (numpy hoặc list lồng nhau)\n",
    "    :return: Gía trị định thức của ma trận\n",
    "    \"\"\"\n",
    "    matrix = np.array(matrix)\n",
    "    n=matrix.shape[0]\n",
    "\n",
    "    #Điều kiện dừng: Ma trận 1x1\n",
    "    if n == 1:\n",
    "        return matrix[0, 0]\n",
    "    #Điều kiện dừng: Ma trận 2x2\n",
    "    if n == 2:\n",
    "        return matrix[0, 0] * matrix[1, 1] - matrix[0, 1] * matrix[1, 0]\n",
    "    \n",
    "    det=0\n",
    "    for j in range(n): #Duyệt theo từng phần tử của hàng đầu tiên\n",
    "        sub_matrix = np.delete(np.delete(matrix, 0, axis=0), j, axis=1) #ma trận con\n",
    "        cofactor= (-1) ** j * matrix[0, j] * determinant_laplace(sub_matrix)\n",
    "        det += cofactor\n",
    "\n",
    "    return det\n",
    "\n",
    "#Nhập ma trận từ user\n",
    "def input_matrix():\n",
    "    n=int(input(\"Nhập kích thước ma trận vuông A (n x n): \"))\n",
    "    matrix = []\n",
    "    print(\"Nhập từng dòng của ma trận, cách nhau bởi dấu cách:\")\n",
    "    for i in range(n):\n",
    "        row = list(map(float, input(f\"Dòng {i+1}: \").split()))\n",
    "        matrix.append(row)\n",
    "    return np.array(matrix)\n",
    "\n",
    "#chạy chương trình\n",
    "matrix = input_matrix()\n",
    "det = determinant_laplace(matrix)\n",
    "print (\"Định thức của ma trận là: det(A)= \",det)"
   ]
  },
  {
   "cell_type": "code",
   "execution_count": 16,
   "id": "43ab3ab6",
   "metadata": {},
   "outputs": [
    {
     "name": "stdout",
     "output_type": "stream",
     "text": [
      "\n",
      "Nhập ma trận A:\n",
      "\n",
      "Ma trận nghịch đảo là:\n",
      "[[-1.5 -1.5  2. ]\n",
      " [ 1.   1.  -1. ]\n",
      " [-0.5  0.5 -0. ]]\n"
     ]
    }
   ],
   "source": [
    "import numpy as np\n",
    "\n",
    "#nhập kích thước ma trận vuông\n",
    "n=int(input(\"Nhập kích thước ma trận vuông (n): \"))\n",
    "\n",
    "#Nhập ma trận A\n",
    "print(\"\\nNhập ma trận A:\")\n",
    "A= np. array([[float(input(f\"A[{i}][{j}]: \")) for j in range(n)] for i in range(n)])\n",
    "\n",
    "#kiểm tra định thức\n",
    "det_A=np.linalg.det(A)\n",
    "if det_A ==0:\n",
    "    print(\"\\nMa trận không khả nghịch vì định thức = 0.\")\n",
    "else:\n",
    "    #tính nghịch đảo\n",
    "    A_inv= np.linalg.inv(A)\n",
    "    print(\"\\nMa trận nghịch đảo là:\")\n",
    "    print(A_inv)\n"
   ]
  },
  {
   "cell_type": "code",
   "execution_count": null,
   "id": "53e8f64d",
   "metadata": {},
   "outputs": [
    {
     "name": "stdout",
     "output_type": "stream",
     "text": [
      "Nhập từng dòng của ma trận, cách nhau bởi dấu cách: \n",
      "Ma trận nghịch đảo của A là:\n",
      " [[-1.33333333 -2.          1.         -1.33333333]\n",
      " [ 2.33333333 -1.          1.         -1.66666667]\n",
      " [-1.         -2.          1.         -1.        ]\n",
      " [-0.66666667  0.          0.          0.33333333]]\n"
     ]
    }
   ],
   "source": [
    "import numpy as np\n",
    "\n",
    "def gauss_jordan_inverse (matrix):\n",
    "    \"\"\"\n",
    "    Tìm ma trận nghịch đảo bằng pp Gauss-Jordan\n",
    "\n",
    "    :param matrix: Ma trận vuông (numpy array)\n",
    "    :return: Ma trận nghịch đảo nếu tồn tại, ngược lại báo lỗi\n",
    "    \"\"\"\n",
    "\n",
    "    matrix = np.array(matrix, dtype=float)\n",
    "    n = matrix.shape[0]\n",
    "\n",
    "    #tạo ma trận mở rộng [ A | I ]\n",
    "    augmented_matrix= np.hstack((matrix, np.eye(n)))\n",
    "\n",
    "    #Ap dụng phép biển đổi hàng\n",
    "    for i in range(n):\n",
    "        #Tìm phần tử chính (pivot)\n",
    "        pivot = augmented_matrix[i, i]\n",
    "        if abs(pivot) < 1e-10:  #ktra nếu pivot quá nhỏ hoặc = 0\n",
    "            raise ValueError(\"Ma trận không khả nghịch!\")\n",
    "        \n",
    "        #Chia hàng i cho pivot để pivot trở thành 1\n",
    "        augmented_matrix[i] = augmented_matrix[i] / pivot\n",
    "\n",
    "        #Dùng hàng i để khử các phần tử trong cột\n",
    "        for j in range(n):\n",
    "            if i !=j:\n",
    "                factor = augmented_matrix[j, i]\n",
    "                augmented_matrix[j] -= factor * augmented_matrix[i]\n",
    "\n",
    "    #Phần bên phải là ma trận nghịch đảo\n",
    "    inverse_matrix=augmented_matrix[:, n:]\n",
    "    return inverse_matrix\n",
    "\n",
    "#Nhập ma trận từ người dùng\n",
    "def input_matrix():\n",
    "    n= int(input(\"Nhập kích thước ma trận vuông n x n: \"))\n",
    "    \n",
    "    #khởi tạo ma trận rỗng \n",
    "    matrix = []\n",
    "    print(\"Nhập từng dòng của ma trận, cách nhau bởi dấu cách: \")\n",
    "    for i in range(n):\n",
    "        row = list(map(float, input(f\"Dòng {i+1}: \").split()))\n",
    "        matrix.append(row)\n",
    "    return np.array(matrix)\n",
    "\n",
    "#run\n",
    "try:\n",
    "    A= input_matrix()\n",
    "    A_inv = gauss_jordan_inverse(A)\n",
    "    print(\"Ma trận nghịch đảo của A là:\\n\", A_inv)\n",
    "except ValueError as error:\n",
    "    print(error)\n",
    "\n",
    "\n"
   ]
  }
 ],
 "metadata": {
  "kernelspec": {
   "display_name": "myenv",
   "language": "python",
   "name": "python3"
  },
  "language_info": {
   "codemirror_mode": {
    "name": "ipython",
    "version": 3
   },
   "file_extension": ".py",
   "mimetype": "text/x-python",
   "name": "python",
   "nbconvert_exporter": "python",
   "pygments_lexer": "ipython3",
   "version": "3.13.3"
  }
 },
 "nbformat": 4,
 "nbformat_minor": 5
}
