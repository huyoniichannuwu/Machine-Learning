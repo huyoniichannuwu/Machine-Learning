{
 "cells": [
  {
   "cell_type": "code",
   "execution_count": null,
   "id": "04dbfbc1",
   "metadata": {},
   "outputs": [
    {
     "name": "stdout",
     "output_type": "stream",
     "text": [
      "A. Đầu tư toàn bộ vào cổ phiếu:\n",
      "   Lãi suất kỳ vọng E(X): 9.00%, Độ lệch chuẩn (σ): 9.43%\n",
      "B. Đầu tư toàn bộ vào trái phiếu:\n",
      "   Lãi suất kỳ vọng E(Y): 8.00%, Độ lệch chuẩn (σ): 1.26%\n",
      "C. Đầu tư để lãi suất kỳ vọng lớn nhất:\n",
      "   Tỷ lệ cổ phiếu: 1.00, Lãi suất kỳ vọng E(X+Y): 9.00%\n",
      "D. Đầu tư để rủi ro thấp nhất:\n",
      "   Tỷ lệ cổ phiếu: 0.09, Mức rủi ro D(X+Y): 0.86%\n"
     ]
    }
   ],
   "source": [
    "##vd16:\n",
    "import numpy as np\n",
    "\n",
    "# Các giá trị X (cổ phiếu) và Y (trái phiếu)\n",
    "X = np.array([-10, 0, 10, 20])\n",
    "Y = np.array([6, 8, 10])\n",
    "\n",
    "# Ma trận xác suất tương ứng giữa X và Y\n",
    "P = np.array([\n",
    "    [0.0, 0.0, 0.1],\n",
    "    [0.0, 0.1, 0.1],\n",
    "    [0.1, 0.3, 0.0],\n",
    "    [0.1, 0.2, 0.0]\n",
    "])\n",
    "\n",
    "#A\n",
    "E_X = sum(X[i] * sum(P[i, :]) for i in range(len(X)))\n",
    "Var_X = sum(((X[i] - E_X) ** 2) * sum(P[i, :]) for i in range(len(X)))\n",
    "Std_X = np.sqrt(Var_X)\n",
    "\n",
    "#B\n",
    "E_Y = sum(Y[j] * sum(P[:, j]) for j in range(len(Y)))\n",
    "Var_Y = sum(((Y[j] - E_Y) ** 2) * sum(P[:, j]) for j in range(len(Y)))\n",
    "Std_Y = np.sqrt(Var_Y)\n",
    "\n",
    "#C\n",
    "weights = np.linspace(0, 1, 101)\n",
    "expected_returns = weights * E_X + (1 - weights) * E_Y\n",
    "max_index = np.argmax(expected_returns)\n",
    "max_return = expected_returns[max_index]\n",
    "max_weight = weights[max_index]\n",
    "#D \n",
    "E_XY = sum(X[i] * Y[j] * P[i][j] for i in range(len(X)) for j in range(len(Y)))\n",
    "Cov_XY = E_XY - E_X * E_Y\n",
    "\n",
    "def portfolio_std(w):\n",
    "    return np.sqrt(w**2 * Var_X + (1 - w)**2 * Var_Y + 2 * w * (1 - w) * Cov_XY)\n",
    "\n",
    "std_devs = np.array([portfolio_std(w) for w in weights])\n",
    "min_index = np.argmin(std_devs)\n",
    "min_std = std_devs[min_index]\n",
    "min_weight = weights[min_index]\n",
    "\n",
    "print(\"A. Đầu tư toàn bộ vào cổ phiếu:\")\n",
    "print(f\"   Lãi suất kỳ vọng E(X): {E_X:.2f}%, Độ lệch chuẩn (σ): {Std_X:.2f}%\")\n",
    "\n",
    "print(\"B. Đầu tư toàn bộ vào trái phiếu:\")\n",
    "print(f\"   Lãi suất kỳ vọng E(Y): {E_Y:.2f}%, Độ lệch chuẩn (σ): {Std_Y:.2f}%\")\n",
    "\n",
    "print(\"C. Đầu tư để lãi suất kỳ vọng lớn nhất:\")\n",
    "print(f\"   Tỷ lệ cổ phiếu: {max_weight:.2f}, Lãi suất kỳ vọng E(X+Y): {max_return:.2f}%\")\n",
    "\n",
    "print(\"D. Đầu tư để rủi ro thấp nhất:\")\n",
    "print(f\"   Tỷ lệ cổ phiếu: {min_weight:.2f}, Mức rủi ro D(X+Y): {min_std:.2f}%\")"
   ]
  }
 ],
 "metadata": {
  "kernelspec": {
   "display_name": "myenv",
   "language": "python",
   "name": "python3"
  },
  "language_info": {
   "codemirror_mode": {
    "name": "ipython",
    "version": 3
   },
   "file_extension": ".py",
   "mimetype": "text/x-python",
   "name": "python",
   "nbconvert_exporter": "python",
   "pygments_lexer": "ipython3",
   "version": "3.13.3"
  }
 },
 "nbformat": 4,
 "nbformat_minor": 5
}
